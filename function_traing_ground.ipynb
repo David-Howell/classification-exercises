{
 "cells": [
  {
   "cell_type": "code",
   "execution_count": null,
   "id": "3c8d1a74",
   "metadata": {},
   "outputs": [],
   "source": [
    "def random_forest_models(num_models, rand_st=123, positive=1):\n",
    "    '''\n",
    "    random_forest_models is a function that:\n",
    "        \n",
    "        Takes in:   num_models >> The number of rf models \n",
    "                                  you want to create  ;dtype(int)\n",
    "                      rand_st  >> Random State  \n",
    "                                  ;dtype(int) = 123 unless specified\n",
    "                     positive  >> what is the positive test \n",
    "                                  (0 or 1)\n",
    "        \n",
    "Assumed variables apply:\n",
    "    \n",
    "                  train: training dataset\n",
    "               validate: validate dataset\n",
    "                   test: test dataset\n",
    "\n",
    "                 X_cols = df.columns.drop('target_y').to_list()\n",
    "                  y_col = 'target_y'\n",
    "\n",
    "                X_train = train[X_cols]\n",
    "                y_train = train[y_col]\n",
    "                  X_val = validate[X_cols]\n",
    "                  y_val = validate[y_col]\n",
    "                 X_test = test[X_cols]\n",
    "                 y_test = test[y_col]\n",
    "                 \n",
    "        Returns: a DataFrame with predictions for each model\n",
    "    '''\n",
    "    preds = pd.DataFrame({\n",
    "    'actual': y_train,\n",
    "    'baseline': y_train.mode(),\n",
    "    })\n",
    "    depth = num_models * 2 + 1\n",
    "    for i in range(num_models):\n",
    "        depth -= 1\n",
    "        name = f'model_{i}_depth{}'\n",
    "        \n",
    "        rf = RandomForestClassifier(random_state = rand_st, \n",
    "                                    min_samples_leaf = i, \n",
    "                                    max_depth = depth\n",
    "                                   )\n",
    "        rf.fit(X_train, y_train)\n",
    "        \n",
    "        preds[name] = rf.predict(X_train)\n",
    "    return preds\n",
    "        \n",
    "        \n",
    "        "
   ]
  }
 ],
 "metadata": {
  "kernelspec": {
   "display_name": "Python 3 (ipykernel)",
   "language": "python",
   "name": "python3"
  },
  "language_info": {
   "codemirror_mode": {
    "name": "ipython",
    "version": 3
   },
   "file_extension": ".py",
   "mimetype": "text/x-python",
   "name": "python",
   "nbconvert_exporter": "python",
   "pygments_lexer": "ipython3",
   "version": "3.9.12"
  }
 },
 "nbformat": 4,
 "nbformat_minor": 5
}

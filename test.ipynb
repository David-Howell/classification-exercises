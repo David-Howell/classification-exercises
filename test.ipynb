{
 "cells": [
  {
   "cell_type": "code",
   "execution_count": 1,
   "id": "8a29054f",
   "metadata": {},
   "outputs": [
    {
     "name": "stdout",
     "output_type": "stream",
     "text": [
      "      test\n",
      "test****\n",
      "==test==\n",
      "~~~test~~~\n"
     ]
    }
   ],
   "source": [
    "x = 'test'\n",
    "print(f'{x:>10}') # → '      test'\n",
    "print(f'{x:*<8}') # → 'test****'\n",
    "print(f'{x:=^8}') # → '==test=='\n",
    "\n",
    "# And if you want the padding to be variable, just use another set of braces inside:\n",
    "\n",
    "x, n = 'test', 10\n",
    "print(f'{x:~^{n}}') # → '~~~test~~~'"
   ]
  }
 ],
 "metadata": {
  "kernelspec": {
   "display_name": "Python 3 (ipykernel)",
   "language": "python",
   "name": "python3"
  },
  "language_info": {
   "codemirror_mode": {
    "name": "ipython",
    "version": 3
   },
   "file_extension": ".py",
   "mimetype": "text/x-python",
   "name": "python",
   "nbconvert_exporter": "python",
   "pygments_lexer": "ipython3",
   "version": "3.9.12"
  }
 },
 "nbformat": 4,
 "nbformat_minor": 5
}

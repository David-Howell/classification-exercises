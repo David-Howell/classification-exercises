{
 "cells": [
  {
   "cell_type": "markdown",
   "id": "17bc7347",
   "metadata": {},
   "source": [
    "# Exercises\n",
    "Using the `titanic` data, in your `classification-exercises` repository, create a notebook, `model.ipynb` where you will do the following:"
   ]
  },
  {
   "cell_type": "code",
   "execution_count": null,
   "id": "5a7086fc",
   "metadata": {},
   "outputs": [],
   "source": []
  },
  {
   "cell_type": "markdown",
   "id": "b0f8d1b7",
   "metadata": {},
   "source": [
    "### 1. What is your baseline prediction? "
   ]
  },
  {
   "cell_type": "code",
   "execution_count": null,
   "id": "26102bf8",
   "metadata": {},
   "outputs": [],
   "source": []
  },
  {
   "cell_type": "markdown",
   "id": "fb179b0e",
   "metadata": {},
   "source": [
    "### What is your baseline accuracy? "
   ]
  },
  {
   "cell_type": "code",
   "execution_count": null,
   "id": "b4be54b9",
   "metadata": {},
   "outputs": [],
   "source": []
  },
  {
   "cell_type": "markdown",
   "id": "9ceb31fb",
   "metadata": {},
   "source": [
    "### remember: your baseline prediction for a classification problem is predicting the most prevelant class in the training dataset (the mode). "
   ]
  },
  {
   "cell_type": "code",
   "execution_count": null,
   "id": "3860d159",
   "metadata": {},
   "outputs": [],
   "source": []
  },
  {
   "cell_type": "markdown",
   "id": "8d82713c",
   "metadata": {},
   "source": [
    "### When you make those predictions, what is your accuracy? "
   ]
  },
  {
   "cell_type": "code",
   "execution_count": null,
   "id": "113870dd",
   "metadata": {},
   "outputs": [],
   "source": []
  },
  {
   "cell_type": "markdown",
   "id": "939915fb",
   "metadata": {},
   "source": [
    "### This is your baseline accuracy."
   ]
  },
  {
   "cell_type": "code",
   "execution_count": null,
   "id": "fccd053e",
   "metadata": {},
   "outputs": [],
   "source": []
  },
  {
   "cell_type": "markdown",
   "id": "53dd83f5",
   "metadata": {},
   "source": [
    "### 2. Fit the decision tree classifier to your training sample and transform (i.e. make predictions on the training sample)"
   ]
  },
  {
   "cell_type": "code",
   "execution_count": null,
   "id": "843b1521",
   "metadata": {},
   "outputs": [],
   "source": []
  },
  {
   "cell_type": "markdown",
   "id": "d4ff4e1f",
   "metadata": {},
   "source": [
    "### 3. Evaluate your in-sample results using the model score, confusion matrix, and classification report."
   ]
  },
  {
   "cell_type": "code",
   "execution_count": null,
   "id": "31d2f5e9",
   "metadata": {},
   "outputs": [],
   "source": []
  },
  {
   "cell_type": "markdown",
   "id": "79aa2f02",
   "metadata": {},
   "source": [
    "### 4. Compute: Accuracy, "
   ]
  },
  {
   "cell_type": "code",
   "execution_count": null,
   "id": "60c38306",
   "metadata": {},
   "outputs": [],
   "source": []
  },
  {
   "cell_type": "markdown",
   "id": "c30c8196",
   "metadata": {},
   "source": [
    "### true positive rate, "
   ]
  },
  {
   "cell_type": "code",
   "execution_count": null,
   "id": "cae50580",
   "metadata": {},
   "outputs": [],
   "source": []
  },
  {
   "cell_type": "markdown",
   "id": "0384d323",
   "metadata": {},
   "source": [
    "### false positive rate, "
   ]
  },
  {
   "cell_type": "code",
   "execution_count": null,
   "id": "feeafcfa",
   "metadata": {},
   "outputs": [],
   "source": []
  },
  {
   "cell_type": "markdown",
   "id": "169ec3d6",
   "metadata": {},
   "source": [
    "### true negative rate, "
   ]
  },
  {
   "cell_type": "code",
   "execution_count": null,
   "id": "1bc5caec",
   "metadata": {},
   "outputs": [],
   "source": []
  },
  {
   "cell_type": "markdown",
   "id": "c0d30e82",
   "metadata": {},
   "source": [
    "### false negative rate, "
   ]
  },
  {
   "cell_type": "code",
   "execution_count": null,
   "id": "dfca5399",
   "metadata": {},
   "outputs": [],
   "source": []
  },
  {
   "cell_type": "markdown",
   "id": "9a8a3887",
   "metadata": {},
   "source": [
    "### precision, "
   ]
  },
  {
   "cell_type": "code",
   "execution_count": null,
   "id": "977012d7",
   "metadata": {},
   "outputs": [],
   "source": []
  },
  {
   "cell_type": "markdown",
   "id": "6c44a636",
   "metadata": {},
   "source": [
    "### recall, "
   ]
  },
  {
   "cell_type": "code",
   "execution_count": null,
   "id": "deacc6aa",
   "metadata": {},
   "outputs": [],
   "source": []
  },
  {
   "cell_type": "markdown",
   "id": "7794e6c4",
   "metadata": {},
   "source": [
    "### f1-score, "
   ]
  },
  {
   "cell_type": "code",
   "execution_count": null,
   "id": "71482a62",
   "metadata": {},
   "outputs": [],
   "source": []
  },
  {
   "cell_type": "markdown",
   "id": "a725931f",
   "metadata": {},
   "source": [
    "### and support."
   ]
  },
  {
   "cell_type": "code",
   "execution_count": null,
   "id": "8f217f6c",
   "metadata": {},
   "outputs": [],
   "source": []
  },
  {
   "cell_type": "markdown",
   "id": "44c1e126",
   "metadata": {},
   "source": [
    "### 5. Run through steps 2-4 using a different max_depth value."
   ]
  },
  {
   "cell_type": "code",
   "execution_count": null,
   "id": "ad8289cb",
   "metadata": {},
   "outputs": [],
   "source": []
  },
  {
   "cell_type": "markdown",
   "id": "8d54ac57",
   "metadata": {},
   "source": [
    "### 2. Fit the decision tree classifier to your training sample and transform (i.e. make predictions on the training sample)"
   ]
  },
  {
   "cell_type": "code",
   "execution_count": null,
   "id": "9bf83bee",
   "metadata": {},
   "outputs": [],
   "source": []
  },
  {
   "cell_type": "markdown",
   "id": "f9dab22c",
   "metadata": {},
   "source": [
    "### 3. Evaluate your in-sample results using the model score, confusion matrix, and classification report."
   ]
  },
  {
   "cell_type": "code",
   "execution_count": null,
   "id": "52f4cc90",
   "metadata": {},
   "outputs": [],
   "source": []
  },
  {
   "cell_type": "markdown",
   "id": "ef57f40c",
   "metadata": {},
   "source": [
    "### 4. Compute: Accuracy, "
   ]
  },
  {
   "cell_type": "code",
   "execution_count": null,
   "id": "ddedafad",
   "metadata": {},
   "outputs": [],
   "source": []
  },
  {
   "cell_type": "markdown",
   "id": "35f4f266",
   "metadata": {},
   "source": [
    "### true positive rate, "
   ]
  },
  {
   "cell_type": "code",
   "execution_count": null,
   "id": "3c79c245",
   "metadata": {},
   "outputs": [],
   "source": []
  },
  {
   "cell_type": "markdown",
   "id": "c2efbe2b",
   "metadata": {},
   "source": [
    "### false positive rate, "
   ]
  },
  {
   "cell_type": "code",
   "execution_count": null,
   "id": "57d002fb",
   "metadata": {},
   "outputs": [],
   "source": []
  },
  {
   "cell_type": "markdown",
   "id": "00c18765",
   "metadata": {},
   "source": [
    "### true negative rate, "
   ]
  },
  {
   "cell_type": "code",
   "execution_count": null,
   "id": "791151dc",
   "metadata": {},
   "outputs": [],
   "source": []
  },
  {
   "cell_type": "markdown",
   "id": "f6cac29c",
   "metadata": {},
   "source": [
    "### false negative rate, "
   ]
  },
  {
   "cell_type": "code",
   "execution_count": null,
   "id": "cd538228",
   "metadata": {},
   "outputs": [],
   "source": []
  },
  {
   "cell_type": "markdown",
   "id": "1211e4d8",
   "metadata": {},
   "source": [
    "### precision, "
   ]
  },
  {
   "cell_type": "code",
   "execution_count": null,
   "id": "19731e14",
   "metadata": {},
   "outputs": [],
   "source": []
  },
  {
   "cell_type": "markdown",
   "id": "7332894c",
   "metadata": {},
   "source": [
    "### recall, "
   ]
  },
  {
   "cell_type": "code",
   "execution_count": null,
   "id": "fd9bf86f",
   "metadata": {},
   "outputs": [],
   "source": []
  },
  {
   "cell_type": "markdown",
   "id": "337313c0",
   "metadata": {},
   "source": [
    "### f1-score, "
   ]
  },
  {
   "cell_type": "code",
   "execution_count": null,
   "id": "0d30de66",
   "metadata": {},
   "outputs": [],
   "source": []
  },
  {
   "cell_type": "markdown",
   "id": "a0539535",
   "metadata": {},
   "source": [
    "### and support."
   ]
  },
  {
   "cell_type": "code",
   "execution_count": null,
   "id": "6d1371b8",
   "metadata": {},
   "outputs": [],
   "source": []
  },
  {
   "cell_type": "markdown",
   "id": "7d262ab3",
   "metadata": {},
   "source": [
    "### 6. Which model performs better on your in-sample data?"
   ]
  },
  {
   "cell_type": "code",
   "execution_count": null,
   "id": "63f74ce2",
   "metadata": {},
   "outputs": [],
   "source": []
  },
  {
   "cell_type": "markdown",
   "id": "42c49e03",
   "metadata": {},
   "source": [
    "### 7. Which model performs best on your out-of-sample data, the validate set?"
   ]
  },
  {
   "cell_type": "code",
   "execution_count": null,
   "id": "ec034601",
   "metadata": {},
   "outputs": [],
   "source": []
  },
  {
   "cell_type": "markdown",
   "id": "65cf68b5",
   "metadata": {},
   "source": [
    "### 1. Work through these same exercises using the Telco dataset."
   ]
  },
  {
   "cell_type": "code",
   "execution_count": null,
   "id": "2523d80c",
   "metadata": {},
   "outputs": [],
   "source": []
  },
  {
   "cell_type": "markdown",
   "id": "3f941642",
   "metadata": {},
   "source": [
    "### 2. Experiment with this model on other datasets with a higher number of output classes."
   ]
  },
  {
   "cell_type": "code",
   "execution_count": null,
   "id": "35178279",
   "metadata": {},
   "outputs": [],
   "source": []
  }
 ],
 "metadata": {
  "kernelspec": {
   "display_name": "Python 3 (ipykernel)",
   "language": "python",
   "name": "python3"
  },
  "language_info": {
   "codemirror_mode": {
    "name": "ipython",
    "version": 3
   },
   "file_extension": ".py",
   "mimetype": "text/x-python",
   "name": "python",
   "nbconvert_exporter": "python",
   "pygments_lexer": "ipython3",
   "version": "3.9.12"
  }
 },
 "nbformat": 4,
 "nbformat_minor": 5
}
